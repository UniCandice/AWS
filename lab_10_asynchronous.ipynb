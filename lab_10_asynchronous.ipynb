{
 "cells": [
  {
   "cell_type": "markdown",
   "metadata": {},
   "source": [
    "# Task 4: Deploy a model for asynchronous inference\n",
    "\n",
    "## Task 4.1: Environment setup\n",
    "\n",
    "Install packages and dependencies."
   ]
  },
  {
   "cell_type": "code",
   "execution_count": 1,
   "metadata": {},
   "outputs": [
    {
     "name": "stdout",
     "output_type": "stream",
     "text": [
      "sagemaker.config INFO - Not applying SDK defaults from location: /etc/xdg/sagemaker/config.yaml\n",
      "sagemaker.config INFO - Not applying SDK defaults from location: /home/sagemaker-user/.config/sagemaker/config.yaml\n"
     ]
    }
   ],
   "source": [
    "#install-dependencies\n",
    "import boto3\n",
    "import sagemaker\n",
    "import time\n",
    "from sagemaker.session import Session\n",
    "from botocore.exceptions import ClientError\n",
    "\n",
    "role = sagemaker.get_execution_role()\n",
    "region = boto3.Session().region_name\n",
    "sess = boto3.Session()\n",
    "sm = sess.client('sagemaker')\n",
    "prefix = 'sagemaker/mlasms'\n",
    "bucket = sagemaker.Session().default_bucket()\n",
    "s3_client = boto3.client(\"s3\")\n",
    "sagemaker_runtime = boto3.client(\"sagemaker-runtime\", region_name=region)"
   ]
  },
  {
   "cell_type": "markdown",
   "metadata": {},
   "source": [
    "Save the model from the training and tuning lab in the default Amazon Simple Storage Service (Amazon S3) bucket. Set up a model using **create_model** and configure **ModelDataUrl** to reference the trained model."
   ]
  },
  {
   "cell_type": "code",
   "execution_count": 2,
   "metadata": {},
   "outputs": [],
   "source": [
    "#set-up-model\n",
    "# Upload the model to your Amazon S3 bucket\n",
    "s3_client.upload_file(Filename=\"model.tar.gz\", Bucket=bucket, Key=f\"{prefix}/models/model.tar.gz\")\n",
    "\n",
    "# Set a date to use in the model name\n",
    "create_date = time.strftime(\"%Y-%m-%d-%H-%M-%S\")\n",
    "model_name = 'income-model-{}'.format(create_date)\n",
    "\n",
    "# Retrieve the container image\n",
    "container = sagemaker.image_uris.retrieve(\n",
    "    region=boto3.Session().region_name, \n",
    "    framework='xgboost', \n",
    "    version='1.5-1'\n",
    ")\n",
    "\n",
    "# Set up the model\n",
    "income_model = sm.create_model(\n",
    "    ModelName = model_name,\n",
    "    ExecutionRoleArn = role,\n",
    "    PrimaryContainer = {\n",
    "        'Image': container,\n",
    "        'ModelDataUrl': f's3://{bucket}/{prefix}/models/model.tar.gz',\n",
    "    }\n",
    ")"
   ]
  },
  {
   "cell_type": "markdown",
   "metadata": {},
   "source": [
    "Upload the asynchronous records to the default Amazon S3 bucket."
   ]
  },
  {
   "cell_type": "code",
   "execution_count": 3,
   "metadata": {},
   "outputs": [],
   "source": [
    "#upload-dataset\n",
    "s3_client.upload_file(Filename=\"asynchronous_records.csv\", Bucket=bucket, Key=f\"{prefix}/asynchronous_records.csv\", ExtraArgs={\"ContentType\": \"text/csv;charset=utf-8\"})\n",
    "input_location = f\"s3://{bucket}/{prefix}/asynchronous_records.csv\""
   ]
  },
  {
   "cell_type": "markdown",
   "metadata": {},
   "source": [
    "## Task 4.2: Create an endpoint from the provided synthesized, retrained model"
   ]
  },
  {
   "cell_type": "markdown",
   "metadata": {},
   "source": [
    "Amazon SageMaker Asynchronous Inference is a capability in SageMaker that queues incoming requests and processes them asynchronously. This option is ideal for requests with large payload sizes (up to 1 GB), long processing times (up to 15 minutes), and near real-time latency requirements. With Asynchronous Inference, you can reduce costs by autoscaling the instance count to zero when there are no requests to process. Therefore, you only pay when your endpoint is processing requests.\n",
    "\n",
    "There are three steps to creating an asynchronous endpoint using the SageMaker Python SDK. These are the same steps used for the real-time and serverless endpoints, but the steps have different configurations:\n",
    "1. Create a SageMaker model in SageMaker.\n",
    "2. Create an endpoint configuration for an HTTPS endpoint.\n",
    "3. Create an HTTPS endpoint.\n",
    "\n",
    "You have already created a model. You are now ready to create an endpoint configuration and an endpoint. \n",
    "\n",
    "First, set up the endpoint configuration name and the instance type that you want to use. Then, call the CreateEndpointConfig API.\n",
    "\n",
    "To create an endpoint configuration, you need to set the following options:\n",
    "- **VariantName**: The name of the production variant (one or more models in production).\n",
    "- **ModelName**: The name of the model that you want to host. This is the name that you specified when you created the model.\n",
    "- **InstanceType**: The compute instance type.\n",
    "- **S3OutputPath**: The location to upload response outputs to when no location is provided in the request.\n",
    "- **MaxConcurrentInvocationsPerInstance**: (Optional) The maximum number of concurrent requests sent by the SageMaker client to the model container.\n",
    "\n",
    "Optionally, you can also set a NotificationConfig, selecting an Amazon Simple Notification Service (Amazon SNS) topic that posts notifications when an inference request is successful or if it fails. In this lab, you do not need to set up this option."
   ]
  },
  {
   "cell_type": "code",
   "execution_count": 4,
   "metadata": {},
   "outputs": [
    {
     "name": "stdout",
     "output_type": "stream",
     "text": [
      "Created EndpointConfig: arn:aws:sagemaker:us-west-2:440570968020:endpoint-config/income-model-asynchronous-endpoint-2024-11-06-16-45-10\n"
     ]
    }
   ],
   "source": [
    "#create-endpoint-configuration \n",
    "# Create an endpoint config name. Here you create one based on the date so you can search endpoints based on creation time.\n",
    "endpoint_config_name = 'income-model-asynchronous-endpoint-{}'.format(create_date)                              \n",
    "output_location = f\"s3://{bucket}/{prefix}/output\"\n",
    "\n",
    "endpoint_config_response = sm.create_endpoint_config(\n",
    "   EndpointConfigName=endpoint_config_name,\n",
    "   ProductionVariants=[\n",
    "        {\n",
    "            \"ModelName\": model_name,\n",
    "            \"VariantName\": \"variant1\", # The name of the production variant.\n",
    "            \"InstanceType\": \"ml.m5.xlarge\", # Specify the compute instance type.\n",
    "            \"InitialInstanceCount\": 1 # Number of instances to launch initially.\n",
    "            \n",
    "        } \n",
    "    ],\n",
    "    AsyncInferenceConfig={\n",
    "        \"OutputConfig\": {\n",
    "            # Location to upload response outputs when no location is provided in the request.\n",
    "            \"S3OutputPath\": output_location\n",
    "        },\n",
    "        \"ClientConfig\": {\n",
    "            # (Optional) Specify the max number of inflight invocations per instance\n",
    "            # If no value is provided, Amazon SageMaker chooses an optimal value for you\n",
    "            \"MaxConcurrentInvocationsPerInstance\": 4\n",
    "        }\n",
    "    }\n",
    ")\n",
    "\n",
    "print(f\"Created EndpointConfig: {endpoint_config_response['EndpointConfigArn']}\")"
   ]
  },
  {
   "cell_type": "markdown",
   "metadata": {},
   "source": [
    "Next, create an endpoint. When you create an asynchronous endpoint, SageMaker launches the machine learning (ML) compute instances and deploys the model as specified in the configuration. Refer to [Asynchronous Inference](https://docs.aws.amazon.com/sagemaker/latest/dg/async-inference.html) for more information about the options available to you with asynchronous endpoints.\n",
    "\n",
    "When the endpoint is in service, the helper function prints the endpoint Amazon Resource Name (ARN). Endpoint creation can take as long as 7 minutes to run."
   ]
  },
  {
   "cell_type": "code",
   "execution_count": 5,
   "metadata": {},
   "outputs": [
    {
     "name": "stdout",
     "output_type": "stream",
     "text": [
      "Waiting for Endpoint Creation\n",
      "Waiting for Endpoint Creation\n",
      "Waiting for Endpoint Creation\n",
      "Waiting for Endpoint Creation\n",
      "Waiting for Endpoint Creation\n",
      "Waiting for Endpoint Creation\n",
      "Waiting for Endpoint Creation\n",
      "Waiting for Endpoint Creation\n",
      "Waiting for Endpoint Creation\n",
      "Waiting for Endpoint Creation\n",
      "Waiting for Endpoint Creation\n",
      "Waiting for Endpoint Creation\n",
      "Endpoint arn:aws:sagemaker:us-west-2:440570968020:endpoint/income-model-asynchronous-endpoint-2024-11-06-16-45-10-name successfully created.\n"
     ]
    }
   ],
   "source": [
    "#create-endpoint\n",
    "# The name of the endpoint. The name must be unique within an AWS Region in your AWS account.\n",
    "endpoint_name = '{}-name'.format(endpoint_config_name)\n",
    "\n",
    "create_endpoint_response = sm.create_endpoint(\n",
    "    EndpointName=endpoint_name, \n",
    "    EndpointConfigName=endpoint_config_name\n",
    ") \n",
    "\n",
    "def wait_for_endpoint_creation_complete(endpoint):\n",
    "    \"\"\"Helper function to wait for the completion of creating an endpoint\"\"\"\n",
    "    response = sm.describe_endpoint(EndpointName=endpoint_name)\n",
    "    status = response.get(\"EndpointStatus\")\n",
    "    while status == \"Creating\":\n",
    "        print(\"Waiting for Endpoint Creation\")\n",
    "        time.sleep(15)\n",
    "        response = sm.describe_endpoint(EndpointName=endpoint_name)\n",
    "        status = response.get(\"EndpointStatus\")\n",
    "\n",
    "    if status != \"InService\":\n",
    "        print(f\"Failed to create endpoint, response: {response}\")\n",
    "        failureReason = response.get(\"FailureReason\", \"\")\n",
    "        raise SystemExit(\n",
    "            f\"Failed to create endpoint {create_endpoint_response['EndpointArn']}, status: {status}, reason: {failureReason}\"\n",
    "        )\n",
    "    print(f\"Endpoint {create_endpoint_response['EndpointArn']} successfully created.\")\n",
    "\n",
    "wait_for_endpoint_creation_complete(endpoint=create_endpoint_response)\n"
   ]
  },
  {
   "cell_type": "markdown",
   "metadata": {},
   "source": [
    "In SageMaker Studio, you can review the endpoint details under the **Endpoints** tab.\n",
    "\n",
    "1. Copy the **SagemakerStudioUrl** value to the left of these instructions.\n",
    "\n",
    "1. Open a new browser tab, and then paste the **SagemakerStudioUrl** value into the address bar.\n",
    "\n",
    "1. Press **Enter**.\n",
    "\n",
    "1. The browser displays the SageMaker Studio page.\n",
    "\n",
    "1. In the SageMaker Studio welcome popup window, choose **Skip Tour for now**.\n",
    "\n",
    "1. Choose **Deployments**.\n",
    "\n",
    "1. Choose **Endpoints**.\n",
    "\n",
    "SageMaker Studio displays the **Endpoints** tab.\n",
    "\n",
    "1. Select the endpoint which has **income-model-asynchronous-** in the **Name** column.\n",
    "\n",
    "If the endpoint does not appear, choose the refresh icon until the endpoint appears in the list.\n",
    "\n",
    "SageMaker Studio displays the **ENDPOINT SUMMARY** tab.\n",
    "\n",
    "If you opened the endpoint before it finished creating, choose the refresh icon until the **Endpoint status** changes from *Creating* to *InService*.\n",
    "\n",
    "The **Endpoint type** is listed as **Async**."
   ]
  },
  {
   "cell_type": "markdown",
   "metadata": {},
   "source": [
    "## Task 4.3: Invoke an endpoint for an asynchronous inference with asynchronous customer records\n",
    "\n",
    "After you deploy your model using SageMaker hosting services, you can test your model on that endpoint by sending it test data.\n",
    "\n",
    "To test an asynchronous endpoint, you must include the Amazon S3 input location in the API call. For this lab, there is a asynchronous_records.csv file in the default SageMaker S3 bucket with 100 customer records that you can test the endpoint with. If the action is successful, the service sends back an HTTP 202 response."
   ]
  },
  {
   "cell_type": "code",
   "execution_count": 6,
   "metadata": {},
   "outputs": [
    {
     "name": "stdout",
     "output_type": "stream",
     "text": [
      "{'ResponseMetadata': {'RequestId': '0b42e3d0-0b34-421c-8bde-0f81513adb66', 'HTTPStatusCode': 202, 'HTTPHeaders': {'x-amzn-requestid': '0b42e3d0-0b34-421c-8bde-0f81513adb66', 'x-amzn-sagemaker-outputlocation': 's3://sagemaker-us-west-2-440570968020/sagemaker/mlasms/output/ca92292c-b6cc-450b-a67a-0c024dee9855.out', 'date': 'Wed, 06 Nov 2024 16:49:03 GMT', 'content-type': 'application/json', 'content-length': '54', 'connection': 'keep-alive'}, 'RetryAttempts': 0}, 'OutputLocation': 's3://sagemaker-us-west-2-440570968020/sagemaker/mlasms/output/ca92292c-b6cc-450b-a67a-0c024dee9855.out', 'InferenceId': 'b2803771-4332-4804-b7cf-cfd551010325'}\n",
      "\n",
      "The output key is: sagemaker/mlasms/output/ca92292c-b6cc-450b-a67a-0c024dee9855.out\n"
     ]
    }
   ],
   "source": [
    "#send-test-file\n",
    "response = sagemaker_runtime.invoke_endpoint_async(\n",
    "                            EndpointName=endpoint_name, \n",
    "                            InputLocation=input_location)\n",
    "\n",
    "print(response)\n",
    "\n",
    "output_key = response['OutputLocation'].split(\"/\", 3)[3]\n",
    "print('\\nThe output key is: {}'.format(output_key))"
   ]
  },
  {
   "cell_type": "markdown",
   "metadata": {},
   "source": [
    "Check the output location to see if the inference has been processed. When it has been processed, print out the prediction scores for all the customers included in the invocation."
   ]
  },
  {
   "cell_type": "code",
   "execution_count": 7,
   "metadata": {},
   "outputs": [
    {
     "name": "stdout",
     "output_type": "stream",
     "text": [
      "Predictions for the 100 customers: 0.9714438319206238\n",
      "0.001604771357960999\n",
      "0.04654807969927788\n",
      "0.4671800434589386\n",
      "0.0018451622454449534\n",
      "0.05159733071923256\n",
      "0.012455019168555737\n",
      "0.6992623805999756\n",
      "0.0014537291135638952\n",
      "0.5825179815292358\n",
      "0.0006570011610165238\n",
      "0.25096553564071655\n",
      "0.9944268465042114\n",
      "0.013036633841693401\n",
      "0.00042709000990726054\n",
      "0.759122908115387\n",
      "0.9882861971855164\n",
      "0.012484348379075527\n",
      "0.006748788990080357\n",
      "0.6448169350624084\n",
      "0.994911253452301\n",
      "0.0037871734239161015\n",
      "0.09882298111915588\n",
      "0.007764520589262247\n",
      "0.03981306776404381\n",
      "0.008821592666208744\n",
      "0.39725974202156067\n",
      "0.12154777348041534\n",
      "0.592326283454895\n",
      "0.02497350424528122\n",
      "0.004290309734642506\n",
      "0.47463929653167725\n",
      "0.025301894173026085\n",
      "0.8622359037399292\n",
      "0.42451348900794983\n",
      "0.024893196299672127\n",
      "0.02361108735203743\n",
      "0.030183158814907074\n",
      "0.18910986185073853\n",
      "0.02147681824862957\n",
      "0.006713347975164652\n",
      "0.007243005093187094\n",
      "0.04896042123436928\n",
      "0.33510586619377136\n",
      "0.052108898758888245\n",
      "0.04989563301205635\n",
      "0.021678898483514786\n",
      "0.6462130546569824\n",
      "0.7126902937889099\n",
      "0.11416509002447128\n",
      "0.3820422887802124\n",
      "0.003435546299442649\n",
      "0.6908886432647705\n",
      "0.5630835890769958\n",
      "0.12032599002122879\n",
      "0.030902402475476265\n",
      "0.4735148847103119\n",
      "0.00048269788385368884\n",
      "0.631675660610199\n",
      "0.4775283634662628\n",
      "0.0005245280917733908\n",
      "0.3753584623336792\n",
      "0.001203422900289297\n",
      "0.3057209849357605\n",
      "0.007989423349499702\n",
      "0.25130313634872437\n",
      "0.9861161708831787\n",
      "0.08224183320999146\n",
      "0.0001788977679098025\n",
      "0.0121430279687047\n",
      "0.00875520333647728\n",
      "0.00037481027538888156\n",
      "0.9293055534362793\n",
      "0.9474835395812988\n",
      "0.6357245445251465\n",
      "0.00053978874348104\n",
      "0.005464714020490646\n",
      "0.23541846871376038\n",
      "0.0033335229381918907\n",
      "0.0004631657211575657\n",
      "0.21860302984714508\n",
      "0.08549269288778305\n",
      "0.44376927614212036\n",
      "0.3322431147098541\n",
      "0.4509429335594177\n",
      "0.12085277587175369\n",
      "0.17744307219982147\n",
      "0.02115797810256481\n",
      "0.01922801323235035\n",
      "0.0733877420425415\n",
      "0.18014247715473175\n",
      "0.03155511990189552\n",
      "0.004784470424056053\n",
      "0.03424112871289253\n",
      "0.01723715476691723\n",
      "0.8244413733482361\n",
      "0.008955251425504684\n",
      "0.3812409043312073\n",
      "0.35213127732276917\n",
      "0.015892453491687775\n",
      "0.20595329999923706\n",
      "\n"
     ]
    }
   ],
   "source": [
    "#get-output\n",
    "def get_output():\n",
    "    while True:\n",
    "        try:\n",
    "            return sagemaker.session.Session().read_s3_file(bucket=bucket, key_prefix=output_key)\n",
    "        except ClientError as e:\n",
    "            if e.response[\"Error\"][\"Code\"] == \"NoSuchKey\":\n",
    "                print(\"Waiting for output...\")\n",
    "                time.sleep(2)\n",
    "                continue\n",
    "            raise\n",
    "\n",
    "output = get_output()\n",
    "print(f\"Predictions for the 100 customers: {output}\")"
   ]
  },
  {
   "cell_type": "markdown",
   "metadata": {},
   "source": [
    "## Task 4.4: Delete the endpoint\n",
    "\n",
    "Cleaning up an endpoint can be accomplished in three steps. First, delete the endpoint. Then, delete the endpoint configuration. Finally, if you no longer need the model that you deployed, delete it."
   ]
  },
  {
   "cell_type": "code",
   "execution_count": 8,
   "metadata": {},
   "outputs": [
    {
     "data": {
      "text/plain": [
       "{'ResponseMetadata': {'RequestId': '4cb3dc92-887a-4ee2-a3e9-31242ac089af',\n",
       "  'HTTPStatusCode': 200,\n",
       "  'HTTPHeaders': {'x-amzn-requestid': '4cb3dc92-887a-4ee2-a3e9-31242ac089af',\n",
       "   'content-type': 'application/x-amz-json-1.1',\n",
       "   'date': 'Wed, 06 Nov 2024 16:49:13 GMT',\n",
       "   'content-length': '0'},\n",
       "  'RetryAttempts': 0}}"
      ]
     },
     "execution_count": 8,
     "metadata": {},
     "output_type": "execute_result"
    }
   ],
   "source": [
    "#delete-resources\n",
    "# Delete endpoint\n",
    "sm.delete_endpoint(EndpointName=endpoint_name)\n",
    "\n",
    "# Delete endpoint configuration\n",
    "sm.delete_endpoint_config(EndpointConfigName=endpoint_config_name)\n",
    "                   \n",
    "# Delete model\n",
    "sm.delete_model(ModelName=model_name)"
   ]
  },
  {
   "cell_type": "markdown",
   "metadata": {},
   "source": [
    "### Conclusion\n",
    "\n",
    "Congratulations! You have used SageMaker to successfully create an asynchronous endpoint, using the SageMaker Python SDK, and to invoke the endpoint.\n",
    "\n",
    "The next task of the lab focuses on batch transform.\n",
    "\n",
    "### Cleanup\n",
    "\n",
    "You have completed this notebook. To move to the next part of the lab, do the following:\n",
    "\n",
    "- Close this notebook file.\n",
    "- Return to the lab session and continue with **Task 5: Use batch transform to get inferences from a large dataset**."
   ]
  }
 ],
 "metadata": {
  "instance_type": "ml.t3.xlarge",
  "kernelspec": {
   "display_name": "Python 3 (ipykernel)",
   "language": "python",
   "name": "python3"
  },
  "language_info": {
   "codemirror_mode": {
    "name": "ipython",
    "version": 3
   },
   "file_extension": ".py",
   "mimetype": "text/x-python",
   "name": "python",
   "nbconvert_exporter": "python",
   "pygments_lexer": "ipython3",
   "version": "3.11.10"
  },
  "vscode": {
   "interpreter": {
    "hash": "2e45558c452cedcb26631315a9b3b77e80a9c32d662ed25df58964b99bc5b9b9"
   }
  }
 },
 "nbformat": 4,
 "nbformat_minor": 4
}

{
 "cells": [
  {
   "cell_type": "markdown",
   "id": "3b408ee7-8749-4989-97b1-e4951d1f5988",
   "metadata": {
    "editable": true,
    "slideshow": {
     "slide_type": ""
    },
    "tags": []
   },
   "source": [
    "# Preprocessing Data for ML using SageMaker\n",
    "When working with a machine learning project, it is typical to perform pre and post processing to build the datasets specific to the model training requirements. Often times, data scientists develop preprocessing scripts in a notebook to prepare the data for training a machine learning model. For the context of this workshop, we are working with a synthetic video game dataset to train a classifier to predict the probability of player churn. The data preprocessing in this notebook focuses on curating the data structure to train an [XGBoost classifier](https://docs.aws.amazon.com/sagemaker/latest/dg/xgboost.html). \n",
    "\n",
    "\n",
    "![preprocessing notebook](img/sagemaker-mlops-notebook-preprocessing.jpg)"
   ]
  },
  {
   "cell_type": "code",
   "execution_count": 26,
   "id": "61145197-a212-484c-975f-cbda6e1f152a",
   "metadata": {
    "editable": true,
    "slideshow": {
     "slide_type": ""
    },
    "tags": []
   },
   "outputs": [
    {
     "name": "stdout",
     "output_type": "stream",
     "text": [
      "Requirement already satisfied: scikit-learn in /opt/conda/lib/python3.11/site-packages (1.5.2)\n",
      "Requirement already satisfied: pandas>=2.0.0 in /opt/conda/lib/python3.11/site-packages (2.2.3)\n",
      "Requirement already satisfied: s3fs==0.4.2 in /opt/conda/lib/python3.11/site-packages (0.4.2)\n",
      "Requirement already satisfied: sagemaker in /opt/conda/lib/python3.11/site-packages (2.235.1)\n",
      "Requirement already satisfied: xgboost in /opt/conda/lib/python3.11/site-packages (2.1.1)\n",
      "Requirement already satisfied: mlflow==2.13.2 in /opt/conda/lib/python3.11/site-packages (2.13.2)\n",
      "Requirement already satisfied: sagemaker-mlflow==0.1.0 in /opt/conda/lib/python3.11/site-packages (0.1.0)\n",
      "Requirement already satisfied: botocore>=1.12.91 in /opt/conda/lib/python3.11/site-packages (from s3fs==0.4.2) (1.35.65)\n",
      "Requirement already satisfied: fsspec>=0.6.0 in /opt/conda/lib/python3.11/site-packages (from s3fs==0.4.2) (2023.6.0)\n",
      "Requirement already satisfied: Flask<4 in /opt/conda/lib/python3.11/site-packages (from mlflow==2.13.2) (3.0.3)\n",
      "Requirement already satisfied: alembic!=1.10.0,<2 in /opt/conda/lib/python3.11/site-packages (from mlflow==2.13.2) (1.13.3)\n",
      "Requirement already satisfied: cachetools<6,>=5.0.0 in /opt/conda/lib/python3.11/site-packages (from mlflow==2.13.2) (5.5.0)\n",
      "Requirement already satisfied: click<9,>=7.0 in /opt/conda/lib/python3.11/site-packages (from mlflow==2.13.2) (8.1.7)\n",
      "Requirement already satisfied: cloudpickle<4 in /opt/conda/lib/python3.11/site-packages (from mlflow==2.13.2) (2.2.1)\n",
      "Requirement already satisfied: docker<8,>=4.0.0 in /opt/conda/lib/python3.11/site-packages (from mlflow==2.13.2) (7.1.0)\n",
      "Requirement already satisfied: entrypoints<1 in /opt/conda/lib/python3.11/site-packages (from mlflow==2.13.2) (0.4)\n",
      "Requirement already satisfied: gitpython<4,>=3.1.9 in /opt/conda/lib/python3.11/site-packages (from mlflow==2.13.2) (3.1.43)\n",
      "Requirement already satisfied: graphene<4 in /opt/conda/lib/python3.11/site-packages (from mlflow==2.13.2) (3.4)\n",
      "Requirement already satisfied: importlib-metadata!=4.7.0,<8,>=3.7.0 in /opt/conda/lib/python3.11/site-packages (from mlflow==2.13.2) (6.10.0)\n",
      "Requirement already satisfied: markdown<4,>=3.3 in /opt/conda/lib/python3.11/site-packages (from mlflow==2.13.2) (3.6)\n",
      "Requirement already satisfied: matplotlib<4 in /opt/conda/lib/python3.11/site-packages (from mlflow==2.13.2) (3.9.2)\n",
      "Requirement already satisfied: numpy<2 in /opt/conda/lib/python3.11/site-packages (from mlflow==2.13.2) (1.26.4)\n",
      "Requirement already satisfied: opentelemetry-api<3,>=1.0.0 in /opt/conda/lib/python3.11/site-packages (from mlflow==2.13.2) (1.27.0)\n",
      "Requirement already satisfied: opentelemetry-sdk<3,>=1.0.0 in /opt/conda/lib/python3.11/site-packages (from mlflow==2.13.2) (1.27.0)\n",
      "Requirement already satisfied: packaging<25 in /opt/conda/lib/python3.11/site-packages (from mlflow==2.13.2) (24.1)\n",
      "Requirement already satisfied: protobuf<5,>=3.12.0 in /opt/conda/lib/python3.11/site-packages (from mlflow==2.13.2) (4.25.3)\n",
      "Requirement already satisfied: pyarrow<16,>=4.0.0 in /opt/conda/lib/python3.11/site-packages (from mlflow==2.13.2) (15.0.2)\n",
      "Requirement already satisfied: pytz<2025 in /opt/conda/lib/python3.11/site-packages (from mlflow==2.13.2) (2023.3)\n",
      "Requirement already satisfied: pyyaml<7,>=5.1 in /opt/conda/lib/python3.11/site-packages (from mlflow==2.13.2) (6.0.2)\n",
      "Requirement already satisfied: querystring-parser<2 in /opt/conda/lib/python3.11/site-packages (from mlflow==2.13.2) (1.2.4)\n",
      "Requirement already satisfied: requests<3,>=2.17.3 in /opt/conda/lib/python3.11/site-packages (from mlflow==2.13.2) (2.32.3)\n",
      "Requirement already satisfied: scipy<2 in /opt/conda/lib/python3.11/site-packages (from mlflow==2.13.2) (1.14.1)\n",
      "Requirement already satisfied: sqlalchemy<3,>=1.4.0 in /opt/conda/lib/python3.11/site-packages (from mlflow==2.13.2) (2.0.36)\n",
      "Requirement already satisfied: sqlparse<1,>=0.4.0 in /opt/conda/lib/python3.11/site-packages (from mlflow==2.13.2) (0.5.1)\n",
      "Requirement already satisfied: Jinja2<4,>=2.11 in /opt/conda/lib/python3.11/site-packages (from mlflow==2.13.2) (3.1.4)\n",
      "Requirement already satisfied: gunicorn<23 in /opt/conda/lib/python3.11/site-packages (from mlflow==2.13.2) (22.0.0)\n",
      "Requirement already satisfied: boto3>=1.34 in /opt/conda/lib/python3.11/site-packages (from sagemaker-mlflow==0.1.0) (1.35.65)\n",
      "Requirement already satisfied: joblib>=1.2.0 in /opt/conda/lib/python3.11/site-packages (from scikit-learn) (1.4.2)\n",
      "Requirement already satisfied: threadpoolctl>=3.1.0 in /opt/conda/lib/python3.11/site-packages (from scikit-learn) (3.5.0)\n",
      "Requirement already satisfied: python-dateutil>=2.8.2 in /opt/conda/lib/python3.11/site-packages (from pandas>=2.0.0) (2.9.0)\n",
      "Requirement already satisfied: tzdata>=2022.7 in /opt/conda/lib/python3.11/site-packages (from pandas>=2.0.0) (2024.2)\n",
      "Requirement already satisfied: attrs<24,>=23.1.0 in /opt/conda/lib/python3.11/site-packages (from sagemaker) (23.2.0)\n",
      "Requirement already satisfied: google-pasta in /opt/conda/lib/python3.11/site-packages (from sagemaker) (0.2.0)\n",
      "Requirement already satisfied: jsonschema in /opt/conda/lib/python3.11/site-packages (from sagemaker) (4.23.0)\n",
      "Requirement already satisfied: pathos in /opt/conda/lib/python3.11/site-packages (from sagemaker) (0.3.2)\n",
      "Requirement already satisfied: platformdirs in /opt/conda/lib/python3.11/site-packages (from sagemaker) (4.3.6)\n",
      "Requirement already satisfied: psutil in /opt/conda/lib/python3.11/site-packages (from sagemaker) (5.9.8)\n",
      "Requirement already satisfied: sagemaker-core<2.0.0,>=1.0.15 in /opt/conda/lib/python3.11/site-packages (from sagemaker) (1.0.15)\n",
      "Requirement already satisfied: schema in /opt/conda/lib/python3.11/site-packages (from sagemaker) (0.7.7)\n",
      "Requirement already satisfied: smdebug-rulesconfig==1.0.1 in /opt/conda/lib/python3.11/site-packages (from sagemaker) (1.0.1)\n",
      "Requirement already satisfied: tblib<4,>=1.7.0 in /opt/conda/lib/python3.11/site-packages (from sagemaker) (2.0.0)\n",
      "Requirement already satisfied: tqdm in /opt/conda/lib/python3.11/site-packages (from sagemaker) (4.66.5)\n",
      "Requirement already satisfied: urllib3<3.0.0,>=1.26.8 in /opt/conda/lib/python3.11/site-packages (from sagemaker) (1.26.19)\n",
      "Requirement already satisfied: Mako in /opt/conda/lib/python3.11/site-packages (from alembic!=1.10.0,<2->mlflow==2.13.2) (1.3.5)\n",
      "Requirement already satisfied: typing-extensions>=4 in /opt/conda/lib/python3.11/site-packages (from alembic!=1.10.0,<2->mlflow==2.13.2) (4.12.2)\n",
      "Requirement already satisfied: jmespath<2.0.0,>=0.7.1 in /opt/conda/lib/python3.11/site-packages (from boto3>=1.34->sagemaker-mlflow==0.1.0) (1.0.1)\n",
      "Requirement already satisfied: s3transfer<0.11.0,>=0.10.0 in /opt/conda/lib/python3.11/site-packages (from boto3>=1.34->sagemaker-mlflow==0.1.0) (0.10.3)\n",
      "Requirement already satisfied: Werkzeug>=3.0.0 in /opt/conda/lib/python3.11/site-packages (from Flask<4->mlflow==2.13.2) (3.0.4)\n",
      "Requirement already satisfied: itsdangerous>=2.1.2 in /opt/conda/lib/python3.11/site-packages (from Flask<4->mlflow==2.13.2) (2.2.0)\n",
      "Requirement already satisfied: blinker>=1.6.2 in /opt/conda/lib/python3.11/site-packages (from Flask<4->mlflow==2.13.2) (1.8.2)\n",
      "Requirement already satisfied: gitdb<5,>=4.0.1 in /opt/conda/lib/python3.11/site-packages (from gitpython<4,>=3.1.9->mlflow==2.13.2) (4.0.11)\n",
      "Requirement already satisfied: graphql-core<3.3,>=3.1 in /opt/conda/lib/python3.11/site-packages (from graphene<4->mlflow==2.13.2) (3.2.5)\n",
      "Requirement already satisfied: graphql-relay<3.3,>=3.1 in /opt/conda/lib/python3.11/site-packages (from graphene<4->mlflow==2.13.2) (3.2.0)\n",
      "Requirement already satisfied: zipp>=0.5 in /opt/conda/lib/python3.11/site-packages (from importlib-metadata!=4.7.0,<8,>=3.7.0->mlflow==2.13.2) (3.20.2)\n",
      "Requirement already satisfied: MarkupSafe>=2.0 in /opt/conda/lib/python3.11/site-packages (from Jinja2<4,>=2.11->mlflow==2.13.2) (3.0.2)\n",
      "Requirement already satisfied: contourpy>=1.0.1 in /opt/conda/lib/python3.11/site-packages (from matplotlib<4->mlflow==2.13.2) (1.3.0)\n",
      "Requirement already satisfied: cycler>=0.10 in /opt/conda/lib/python3.11/site-packages (from matplotlib<4->mlflow==2.13.2) (0.12.1)\n",
      "Requirement already satisfied: fonttools>=4.22.0 in /opt/conda/lib/python3.11/site-packages (from matplotlib<4->mlflow==2.13.2) (4.54.1)\n",
      "Requirement already satisfied: kiwisolver>=1.3.1 in /opt/conda/lib/python3.11/site-packages (from matplotlib<4->mlflow==2.13.2) (1.4.7)\n",
      "Requirement already satisfied: pillow>=8 in /opt/conda/lib/python3.11/site-packages (from matplotlib<4->mlflow==2.13.2) (10.4.0)\n",
      "Requirement already satisfied: pyparsing>=2.3.1 in /opt/conda/lib/python3.11/site-packages (from matplotlib<4->mlflow==2.13.2) (3.2.0)\n",
      "Requirement already satisfied: deprecated>=1.2.6 in /opt/conda/lib/python3.11/site-packages (from opentelemetry-api<3,>=1.0.0->mlflow==2.13.2) (1.2.14)\n",
      "Requirement already satisfied: opentelemetry-semantic-conventions==0.48b0 in /opt/conda/lib/python3.11/site-packages (from opentelemetry-sdk<3,>=1.0.0->mlflow==2.13.2) (0.48b0)\n",
      "Requirement already satisfied: six>=1.5 in /opt/conda/lib/python3.11/site-packages (from python-dateutil>=2.8.2->pandas>=2.0.0) (1.16.0)\n",
      "Requirement already satisfied: charset-normalizer<4,>=2 in /opt/conda/lib/python3.11/site-packages (from requests<3,>=2.17.3->mlflow==2.13.2) (3.4.0)\n",
      "Requirement already satisfied: idna<4,>=2.5 in /opt/conda/lib/python3.11/site-packages (from requests<3,>=2.17.3->mlflow==2.13.2) (3.10)\n",
      "Requirement already satisfied: certifi>=2017.4.17 in /opt/conda/lib/python3.11/site-packages (from requests<3,>=2.17.3->mlflow==2.13.2) (2024.8.30)\n",
      "Requirement already satisfied: pydantic<3.0.0,>=2.0.0 in /opt/conda/lib/python3.11/site-packages (from sagemaker-core<2.0.0,>=1.0.15->sagemaker) (2.9.2)\n",
      "Requirement already satisfied: rich<14.0.0,>=13.0.0 in /opt/conda/lib/python3.11/site-packages (from sagemaker-core<2.0.0,>=1.0.15->sagemaker) (13.9.2)\n",
      "Requirement already satisfied: mock<5.0,>4.0 in /opt/conda/lib/python3.11/site-packages (from sagemaker-core<2.0.0,>=1.0.15->sagemaker) (4.0.3)\n",
      "Requirement already satisfied: jsonschema-specifications>=2023.03.6 in /opt/conda/lib/python3.11/site-packages (from jsonschema->sagemaker) (2024.10.1)\n",
      "Requirement already satisfied: referencing>=0.28.4 in /opt/conda/lib/python3.11/site-packages (from jsonschema->sagemaker) (0.35.1)\n",
      "Requirement already satisfied: rpds-py>=0.7.1 in /opt/conda/lib/python3.11/site-packages (from jsonschema->sagemaker) (0.20.0)\n",
      "Requirement already satisfied: greenlet!=0.4.17 in /opt/conda/lib/python3.11/site-packages (from sqlalchemy<3,>=1.4.0->mlflow==2.13.2) (3.1.1)\n",
      "Requirement already satisfied: ppft>=1.7.6.8 in /opt/conda/lib/python3.11/site-packages (from pathos->sagemaker) (1.7.6.9)\n",
      "Requirement already satisfied: dill>=0.3.8 in /opt/conda/lib/python3.11/site-packages (from pathos->sagemaker) (0.3.9)\n",
      "Requirement already satisfied: pox>=0.3.4 in /opt/conda/lib/python3.11/site-packages (from pathos->sagemaker) (0.3.5)\n",
      "Requirement already satisfied: multiprocess>=0.70.16 in /opt/conda/lib/python3.11/site-packages (from pathos->sagemaker) (0.70.16)\n",
      "Requirement already satisfied: wrapt<2,>=1.10 in /opt/conda/lib/python3.11/site-packages (from deprecated>=1.2.6->opentelemetry-api<3,>=1.0.0->mlflow==2.13.2) (1.16.0)\n",
      "Requirement already satisfied: smmap<6,>=3.0.1 in /opt/conda/lib/python3.11/site-packages (from gitdb<5,>=4.0.1->gitpython<4,>=3.1.9->mlflow==2.13.2) (5.0.0)\n",
      "Requirement already satisfied: annotated-types>=0.6.0 in /opt/conda/lib/python3.11/site-packages (from pydantic<3.0.0,>=2.0.0->sagemaker-core<2.0.0,>=1.0.15->sagemaker) (0.7.0)\n",
      "Requirement already satisfied: pydantic-core==2.23.4 in /opt/conda/lib/python3.11/site-packages (from pydantic<3.0.0,>=2.0.0->sagemaker-core<2.0.0,>=1.0.15->sagemaker) (2.23.4)\n",
      "Requirement already satisfied: markdown-it-py>=2.2.0 in /opt/conda/lib/python3.11/site-packages (from rich<14.0.0,>=13.0.0->sagemaker-core<2.0.0,>=1.0.15->sagemaker) (3.0.0)\n",
      "Requirement already satisfied: pygments<3.0.0,>=2.13.0 in /opt/conda/lib/python3.11/site-packages (from rich<14.0.0,>=13.0.0->sagemaker-core<2.0.0,>=1.0.15->sagemaker) (2.18.0)\n",
      "Requirement already satisfied: mdurl~=0.1 in /opt/conda/lib/python3.11/site-packages (from markdown-it-py>=2.2.0->rich<14.0.0,>=13.0.0->sagemaker-core<2.0.0,>=1.0.15->sagemaker) (0.1.2)\n",
      "Note: you may need to restart the kernel to use updated packages.\n"
     ]
    }
   ],
   "source": [
    "%pip install scikit-learn \"pandas>=2.0.0\" s3fs==0.4.2 sagemaker xgboost mlflow==2.13.2 sagemaker-mlflow==0.1.0"
   ]
  },
  {
   "cell_type": "markdown",
   "id": "34dc82ed-f4b2-4069-a1e6-da63a6d4a344",
   "metadata": {
    "editable": true,
    "slideshow": {
     "slide_type": ""
    },
    "tags": []
   },
   "source": [
    "Import all the essential packages to be used in the notebook"
   ]
  },
  {
   "cell_type": "code",
   "execution_count": 27,
   "id": "00d6c739-d8bc-4e51-8949-31d2805987db",
   "metadata": {
    "editable": true,
    "slideshow": {
     "slide_type": ""
    },
    "tags": []
   },
   "outputs": [
    {
     "name": "stdout",
     "output_type": "stream",
     "text": [
      "The autoreload extension is already loaded. To reload it, use:\n",
      "  %reload_ext autoreload\n"
     ]
    }
   ],
   "source": [
    "%load_ext autoreload\n",
    "%autoreload 2"
   ]
  },
  {
   "cell_type": "code",
   "execution_count": 42,
   "id": "183c4301-f706-4063-b91d-58ca445c8a0b",
   "metadata": {
    "editable": true,
    "slideshow": {
     "slide_type": ""
    },
    "tags": []
   },
   "outputs": [],
   "source": [
    "import boto3\n",
    "from sagemaker.session import Session\n",
    "from sagemaker.feature_store.feature_store import FeatureStore\n",
    "from sagemaker.feature_store.feature_group import FeatureGroup\n",
    "import numpy as np\n",
    "import sagemaker\n",
    "import mlflow\n",
    "import pandas as pd\n",
    "from time import gmtime, strftime\n",
    "import os\n",
    "import json\n",
    "from botocore.exceptions import ClientError"
   ]
  },
  {
   "cell_type": "markdown",
   "id": "4bde4b45-a0f9-4802-8f07-f818eac56ff6",
   "metadata": {
    "editable": true,
    "slideshow": {
     "slide_type": ""
    },
    "tags": []
   },
   "source": [
    "## Helper Functions"
   ]
  },
  {
   "cell_type": "code",
   "execution_count": 43,
   "id": "9153c2fd-f7f9-47b3-b215-89787981b724",
   "metadata": {
    "editable": true,
    "slideshow": {
     "slide_type": ""
    },
    "tags": []
   },
   "outputs": [],
   "source": [
    "def download_from_s3(s3_client, local_file_path, bucket_name, s3_file_path):\n",
    "    try:\n",
    "        # Download the file\n",
    "        s3_client.download_file(bucket_name, s3_file_path, local_file_path)\n",
    "        print(f\"File downloaded successfully to {local_file_path}\")\n",
    "        return True\n",
    "    except ClientError as e:\n",
    "        if e.response['Error']['Code'] == \"404\":\n",
    "            print(\"The object does not exist.\")\n",
    "        else:\n",
    "            print(f\"An error occurred: {e}\")\n",
    "        return False\n",
    "    except Exception as e:\n",
    "        print(f\"An unexpected error occurred: {e}\")\n",
    "        return False\n",
    "\n",
    "def upload_to_s3(s3_client, local_file_path, bucket_name, s3_file_path=None):\n",
    "    # If S3 file path is not specified, use the basename of the local file\n",
    "    if s3_file_path is None:\n",
    "        s3_file_path = os.path.basename(local_file_path)\n",
    "\n",
    "    try:\n",
    "        # Upload the file\n",
    "        s3_client.upload_file(local_file_path, bucket_name, s3_file_path)\n",
    "        print(f\"File {local_file_path} uploaded successfully to {bucket_name}/{s3_file_path}\")\n",
    "        return True\n",
    "    except ClientError as e:\n",
    "        print(f\"ClientError: {e}\")\n",
    "        return False\n",
    "    except FileNotFoundError:\n",
    "        print(f\"The file {local_file_path} was not found\")\n",
    "        return False\n",
    "    except Exception as e:\n",
    "        print(f\"An unexpected error occurred: {e}\")\n",
    "        return False\n",
    "        \n",
    "def write_params(s3_client, step_name, params, notebook_param_s3_bucket_prefix):\n",
    "    local_file_path = f\"{step_name}.json\"\n",
    "    with open(local_file_path, \"w\") as f:\n",
    "        f.write(json.dumps(params))\n",
    "    base_local_file_path = os.path.basename(local_file_path)\n",
    "    bucket_name = notebook_param_s3_bucket_prefix.split(\"/\")[2] # Format: s3://<bucket_name>/..\n",
    "    s3_file_path = os.path.join(\"/\".join(notebook_param_s3_bucket_prefix.split(\"/\")[3:]), base_local_file_path)\n",
    "    upload_to_s3(s3_client, local_file_path, bucket_name, s3_file_path)\n",
    "    \n",
    "def read_params(s3_client, notebook_param_s3_bucket_prefix, step_name):\n",
    "    local_file_path = f\"{step_name}.json\"\n",
    "    base_local_file_path = os.path.basename(local_file_path)\n",
    "    bucket_name = notebook_param_s3_bucket_prefix.split(\"/\")[2] # Format: s3://<bucket_name>/..\n",
    "    s3_file_path = os.path.join(\"/\".join(notebook_param_s3_bucket_prefix.split(\"/\")[3:]),  base_local_file_path)\n",
    "    downloaded = download_from_s3(s3_client, local_file_path, bucket_name, s3_file_path)\n",
    "    with open(local_file_path, \"r\") as f:\n",
    "        data = f.read()\n",
    "        params = json.loads(data)\n",
    "    return params\n"
   ]
  },
  {
   "cell_type": "markdown",
   "id": "97cbf077-1563-4085-9d73-f04a57c76e6a",
   "metadata": {
    "editable": true,
    "slideshow": {
     "slide_type": ""
    },
    "tags": []
   },
   "source": [
    "Define constants for the preprocessing job."
   ]
  },
  {
   "cell_type": "code",
   "execution_count": 44,
   "id": "8c6b68da-6243-4a23-91e2-6fee63d6db80",
   "metadata": {
    "editable": true,
    "slideshow": {
     "slide_type": ""
    },
    "tags": []
   },
   "outputs": [],
   "source": [
    "target_col = \"player_churn\""
   ]
  },
  {
   "cell_type": "markdown",
   "id": "dbce4d47-321a-42cc-8038-15ff3c5f916c",
   "metadata": {
    "editable": true,
    "slideshow": {
     "slide_type": ""
    },
    "tags": []
   },
   "source": [
    "# Initializes Variables / Parameters\n",
    "The following variables are defined in this cell specifically used throughout the notebook. In addition to the hardcoded values, these variables can also be passed into the notebook as parameters when the notebook is scheduled to run remotely, such as a SageMaker Pipeline job. We'll dive into how to pass parameters into this notebook in the next lab. The variables defined in the following cell can be updated with different values when scheduled via CICD pipeline through SageMaker Project. Please refer to [this](https://docs.aws.amazon.com/sagemaker/latest/dg/notebook-auto-run-troubleshoot-override.html) documentation for more information notebook parameterization.\n",
    "\n",
    "Specifically, there are 2 variables that we need to obtain in order to run this notebook successfully in SageMaker Studio. \n",
    "\n",
    "* feature_group_name\n",
    "* mlflow_tracking_server_arn\n",
    "\n",
    "\n",
    "The following section describes how to obtain these variables through SageMaker Studio Launcher.\n",
    "\n",
    "### Feature Store Group\n",
    "If you have completed the feature-store ingestion lab (lab1), there should be a SageMaker feature group created. To obtain the feature group name, navigate to SageMaker Studio launcher, then select `Data` dropdown from the left pane, select `Feature Store` and find the appropriate Feature Store Group name on the right pane, as depicted in the following diagram:\n",
    "\n",
    "![studio feature group console](img/sagemaker-studio-feature-group-console.jpg)\n",
    "\n",
    "### MLFlow Tracking Server¶\n",
    "Machine learning is an iterative process that requires experimenting with various combinations of data, algorithms, and parameters, while observing their impact on model accuracy. The iterative nature of ML experimentation results in numerous model training runs and versions, making it challenging to track the best performing models and their configurations. The complexity of managing and comparing iterative training runs increases with generative artificial intelligence (generative AI), where experimentation involves not only fine-tuning models but also exploring creative and diverse outputs. Researchers must adjust hyperparameters, select suitable model architectures, and curate diverse datasets to optimize both the quality and creativity of the generated content. Evaluating generative AI models requires both quantitative and qualitative metrics, adding another layer of complexity to the experimentation process.\n",
    "\n",
    "Throughout the workshop, you'll integrate MLflow with Amazon SageMaker to track, organize, view, analyze, and compare iterative ML experimentation to gain comparative insights and register and deploy your best performing models.\n",
    "\n",
    "Please refer to this documentation to learn more about SageMaker MLFlow integration.\n",
    "\n",
    "\n",
    "If you completed the `00-start-here.ipynb` prior to this notebook, there should be an MLFlow tracking server provisioned for you to use. To get the ARN for the tracking server, go to the SageMaker Studio Launcher, select `MLFlow` from the Application list on the top left corner of the launcher, select the appropriate tracking server, and find the ARN under the `Configuration` section, as depicted in the following diagram:\n",
    "\n",
    "![mlflow tracking](img/sagemaker-studio-launcher-mlflow-console.jpg)"
   ]
  },
  {
   "cell_type": "code",
   "execution_count": 45,
   "id": "f74b56af-3926-4892-abaa-77d6a76f6ee1",
   "metadata": {
    "editable": true,
    "slideshow": {
     "slide_type": ""
    },
    "tags": [
     "parameters"
    ]
   },
   "outputs": [],
   "source": [
    "region = \"us-east-1\"\n",
    "os.environ[\"AWS_DEFAULT_REGION\"] = region\n",
    "boto_session = boto3.Session(region_name=region)\n",
    "\n",
    "# Sagemaker session\n",
    "sess = sagemaker.Session(boto_session=boto_session)\n",
    "bucket_name = sess.default_bucket()\n",
    "sagemaker_client = boto_session.client(service_name='sagemaker', region_name=region)\n",
    "featurestore_runtime = boto_session.client(service_name='sagemaker-featurestore-runtime', region_name=region)\n",
    "bucket_prefix = \"player-churn/xgboost\"\n",
    "notebook_param_s3_bucket_prefix=f\"s3://{bucket_name}/{bucket_prefix}/params\"\n",
    "experiment_name = \"player-churn-model-experiment\"\n",
    "feature_group_name = \"FG-player-churn-feature-engineering-312d5f19\" # Replace the feature group name created in the previous lab\n",
    "mlflow_tracking_server_arn = \"arn:aws:sagemaker:us-east-1:141310854322:mlflow-tracking-server/mlflow-d-ms17jq3aatnw\" # Provide a valid mlflow tracking server ARN. You can find the value in the output from 00-start-here.ipynb\n",
    "run_id = None"
   ]
  },
  {
   "cell_type": "code",
   "execution_count": 46,
   "id": "e9f86a48-a9ad-4337-922b-e3c777f1a44e",
   "metadata": {
    "editable": true,
    "slideshow": {
     "slide_type": ""
    },
    "tags": []
   },
   "outputs": [],
   "source": [
    "assert len(feature_group_name) > 0\n",
    "assert len(mlflow_tracking_server_arn) > 0"
   ]
  },
  {
   "cell_type": "markdown",
   "id": "a4d8db8d-9341-4af8-ba07-c034e3334c70",
   "metadata": {
    "editable": true,
    "slideshow": {
     "slide_type": ""
    },
    "tags": []
   },
   "source": [
    "The following cell integrates MLFlow tracking server with this preprocessing job."
   ]
  },
  {
   "cell_type": "code",
   "execution_count": 47,
   "id": "7a3c3164-4cf7-4829-bea6-5224b8fae9db",
   "metadata": {
    "editable": true,
    "slideshow": {
     "slide_type": ""
    },
    "tags": []
   },
   "outputs": [],
   "source": [
    "suffix = strftime('%d-%H-%M-%S', gmtime())\n",
    "mlflow.set_tracking_uri(mlflow_tracking_server_arn)\n",
    "experiment = mlflow.set_experiment(experiment_name=experiment_name)\n",
    "run = mlflow.start_run(run_id=run_id) if run_id else mlflow.start_run(run_name=f\"processing-{suffix}\", nested=True)"
   ]
  },
  {
   "cell_type": "code",
   "execution_count": 48,
   "id": "865e7497-31c7-444f-bcdc-50a6acd98b17",
   "metadata": {
    "editable": true,
    "slideshow": {
     "slide_type": ""
    },
    "tags": []
   },
   "outputs": [
    {
     "data": {
      "text/html": [
       "<pre style=\"white-space:pre;overflow-x:auto;line-height:normal;font-family:Menlo,'DejaVu Sans Mono',consolas,'Courier New',monospace\"><span style=\"color: #7fbfbf; text-decoration-color: #7fbfbf\">[11/20/24 21:06:52] </span><span style=\"color: #0069ff; text-decoration-color: #0069ff; font-weight: bold\">INFO    </span> Query <span style=\"color: #ffff00; text-decoration-color: #ffff00\">3db35e0f-2ce5-47da-bac0-076cea69966e</span> is being executed.          <a href=\"file:///opt/conda/lib/python3.11/site-packages/sagemaker/session.py\" target=\"_blank\"><span style=\"color: #7f7f7f; text-decoration-color: #7f7f7f\">session.py</span></a><span style=\"color: #7f7f7f; text-decoration-color: #7f7f7f\">:</span><a href=\"file:///opt/conda/lib/python3.11/site-packages/sagemaker/session.py#6546\" target=\"_blank\"><span style=\"color: #7f7f7f; text-decoration-color: #7f7f7f\">6546</span></a>\n",
       "</pre>\n"
      ],
      "text/plain": [
       "\u001b[2;36m[11/20/24 21:06:52]\u001b[0m\u001b[2;36m \u001b[0m\u001b[1;38;2;0;105;255mINFO    \u001b[0m Query \u001b[93m3db35e0f-2ce5-47da-bac0-076cea69966e\u001b[0m is being executed.          \u001b]8;id=729793;file:///opt/conda/lib/python3.11/site-packages/sagemaker/session.py\u001b\\\u001b[2msession.py\u001b[0m\u001b]8;;\u001b\\\u001b[2m:\u001b[0m\u001b]8;id=809911;file:///opt/conda/lib/python3.11/site-packages/sagemaker/session.py#6546\u001b\\\u001b[2m6546\u001b[0m\u001b]8;;\u001b\\\n"
      ]
     },
     "metadata": {},
     "output_type": "display_data"
    },
    {
     "data": {
      "text/html": [
       "<pre style=\"white-space:pre;overflow-x:auto;line-height:normal;font-family:Menlo,'DejaVu Sans Mono',consolas,'Courier New',monospace\"><span style=\"color: #7fbfbf; text-decoration-color: #7fbfbf\">[11/20/24 21:06:57] </span><span style=\"color: #0069ff; text-decoration-color: #0069ff; font-weight: bold\">INFO    </span> Query <span style=\"color: #ffff00; text-decoration-color: #ffff00\">3db35e0f-2ce5-47da-bac0-076cea69966e</span> successfully executed.      <a href=\"file:///opt/conda/lib/python3.11/site-packages/sagemaker/session.py\" target=\"_blank\"><span style=\"color: #7f7f7f; text-decoration-color: #7f7f7f\">session.py</span></a><span style=\"color: #7f7f7f; text-decoration-color: #7f7f7f\">:</span><a href=\"file:///opt/conda/lib/python3.11/site-packages/sagemaker/session.py#6555\" target=\"_blank\"><span style=\"color: #7f7f7f; text-decoration-color: #7f7f7f\">6555</span></a>\n",
       "</pre>\n"
      ],
      "text/plain": [
       "\u001b[2;36m[11/20/24 21:06:57]\u001b[0m\u001b[2;36m \u001b[0m\u001b[1;38;2;0;105;255mINFO    \u001b[0m Query \u001b[93m3db35e0f-2ce5-47da-bac0-076cea69966e\u001b[0m successfully executed.      \u001b]8;id=122681;file:///opt/conda/lib/python3.11/site-packages/sagemaker/session.py\u001b\\\u001b[2msession.py\u001b[0m\u001b]8;;\u001b\\\u001b[2m:\u001b[0m\u001b]8;id=251096;file:///opt/conda/lib/python3.11/site-packages/sagemaker/session.py#6555\u001b\\\u001b[2m6555\u001b[0m\u001b]8;;\u001b\\\n"
      ]
     },
     "metadata": {},
     "output_type": "display_data"
    }
   ],
   "source": [
    "# Create FeatureStore session object\n",
    "feature_store_session = Session(\n",
    "    boto_session=boto_session,\n",
    "    sagemaker_client=sagemaker_client,\n",
    "    sagemaker_featurestore_runtime_client=featurestore_runtime,\n",
    ")\n",
    "\n",
    "feature_store = FeatureStore(sagemaker_session=feature_store_session)\n",
    "dataset_feature_group = FeatureGroup(feature_group_name)\n",
    "\n",
    "query_output_s3_path = f's3://{bucket_name}/data/query_results/'\n",
    "# Create dataset builder to retrieve the most recent version of each record\n",
    "builder = feature_store.create_dataset(\n",
    "    base=dataset_feature_group,\n",
    "    # included_feature_names=inlcuded_feature_names,\n",
    "    output_path=query_output_s3_path,\n",
    ").with_number_of_recent_records_by_record_identifier(1)\n",
    "\n",
    "player_churn_fs_df, query = builder.to_dataframe()"
   ]
  },
  {
   "cell_type": "code",
   "execution_count": 50,
   "id": "701de184-872a-4821-a755-4388afbcba08",
   "metadata": {
    "editable": true,
    "slideshow": {
     "slide_type": ""
    },
    "tags": []
   },
   "outputs": [
    {
     "data": {
      "text/html": [
       "<div>\n",
       "<style scoped>\n",
       "    .dataframe tbody tr th:only-of-type {\n",
       "        vertical-align: middle;\n",
       "    }\n",
       "\n",
       "    .dataframe tbody tr th {\n",
       "        vertical-align: top;\n",
       "    }\n",
       "\n",
       "    .dataframe thead th {\n",
       "        text-align: right;\n",
       "    }\n",
       "</style>\n",
       "<table border=\"1\" class=\"dataframe\">\n",
       "  <thead>\n",
       "    <tr style=\"text-align: right;\">\n",
       "      <th></th>\n",
       "      <th>player_id</th>\n",
       "      <th>player_lifetime</th>\n",
       "      <th>session_count</th>\n",
       "      <th>player_churn</th>\n",
       "      <th>begin_session_time_of_day_mean_last_day_1</th>\n",
       "      <th>end_session_time_of_day_mean_last_day_1</th>\n",
       "      <th>begin_session_time_of_day_mean_last_day_2</th>\n",
       "      <th>end_session_time_of_day_mean_last_day_2</th>\n",
       "      <th>begin_session_time_of_day_mean_last_day_3</th>\n",
       "      <th>end_session_time_of_day_mean_last_day_3</th>\n",
       "      <th>...</th>\n",
       "      <th>cohort_id_2024_09_11</th>\n",
       "      <th>cohort_id_2024_09_15</th>\n",
       "      <th>cohort_id_2024_09_12</th>\n",
       "      <th>cohort_id_2024_09_13</th>\n",
       "      <th>cohort_id_2024_09_16</th>\n",
       "      <th>cohort_id_2024_09_14</th>\n",
       "      <th>cohort_id_2024_09_08</th>\n",
       "      <th>cohort_id_2024_09_09</th>\n",
       "      <th>cohort_id_2024_09_17</th>\n",
       "      <th>event_time</th>\n",
       "    </tr>\n",
       "  </thead>\n",
       "  <tbody>\n",
       "    <tr>\n",
       "      <th>0</th>\n",
       "      <td>bb8d901a78a645539ac4fb5cc3629225</td>\n",
       "      <td>7233.0</td>\n",
       "      <td>1</td>\n",
       "      <td>0</td>\n",
       "      <td>84693.0</td>\n",
       "      <td>5527.0</td>\n",
       "      <td>0.0</td>\n",
       "      <td>0.0</td>\n",
       "      <td>0.0</td>\n",
       "      <td>0.0</td>\n",
       "      <td>...</td>\n",
       "      <td>0.0</td>\n",
       "      <td>1.0</td>\n",
       "      <td>0.0</td>\n",
       "      <td>0.0</td>\n",
       "      <td>0.0</td>\n",
       "      <td>0.0</td>\n",
       "      <td>0.0</td>\n",
       "      <td>0.0</td>\n",
       "      <td>0.0</td>\n",
       "      <td>2024-11-20T20:58:24.285Z</td>\n",
       "    </tr>\n",
       "    <tr>\n",
       "      <th>1</th>\n",
       "      <td>6ae3e79c8b9c44b5aba3d38eddde7406</td>\n",
       "      <td>7270.0</td>\n",
       "      <td>1</td>\n",
       "      <td>0</td>\n",
       "      <td>81743.0</td>\n",
       "      <td>2614.0</td>\n",
       "      <td>0.0</td>\n",
       "      <td>0.0</td>\n",
       "      <td>0.0</td>\n",
       "      <td>0.0</td>\n",
       "      <td>...</td>\n",
       "      <td>0.0</td>\n",
       "      <td>1.0</td>\n",
       "      <td>0.0</td>\n",
       "      <td>0.0</td>\n",
       "      <td>0.0</td>\n",
       "      <td>0.0</td>\n",
       "      <td>0.0</td>\n",
       "      <td>0.0</td>\n",
       "      <td>0.0</td>\n",
       "      <td>2024-11-20T20:58:24.285Z</td>\n",
       "    </tr>\n",
       "    <tr>\n",
       "      <th>2</th>\n",
       "      <td>5f432744a08f4c18ae44f450f7f4b709</td>\n",
       "      <td>199911.0</td>\n",
       "      <td>2</td>\n",
       "      <td>0</td>\n",
       "      <td>72372.0</td>\n",
       "      <td>79530.0</td>\n",
       "      <td>0.0</td>\n",
       "      <td>0.0</td>\n",
       "      <td>52418.0</td>\n",
       "      <td>59618.0</td>\n",
       "      <td>...</td>\n",
       "      <td>0.0</td>\n",
       "      <td>0.0</td>\n",
       "      <td>0.0</td>\n",
       "      <td>1.0</td>\n",
       "      <td>0.0</td>\n",
       "      <td>0.0</td>\n",
       "      <td>0.0</td>\n",
       "      <td>0.0</td>\n",
       "      <td>0.0</td>\n",
       "      <td>2024-11-20T20:58:24.285Z</td>\n",
       "    </tr>\n",
       "    <tr>\n",
       "      <th>3</th>\n",
       "      <td>f4f9b569a31a4afbb407bfcd1658aeb3</td>\n",
       "      <td>7172.0</td>\n",
       "      <td>1</td>\n",
       "      <td>0</td>\n",
       "      <td>12918.0</td>\n",
       "      <td>20090.0</td>\n",
       "      <td>0.0</td>\n",
       "      <td>0.0</td>\n",
       "      <td>0.0</td>\n",
       "      <td>0.0</td>\n",
       "      <td>...</td>\n",
       "      <td>0.0</td>\n",
       "      <td>0.0</td>\n",
       "      <td>0.0</td>\n",
       "      <td>0.0</td>\n",
       "      <td>1.0</td>\n",
       "      <td>0.0</td>\n",
       "      <td>0.0</td>\n",
       "      <td>0.0</td>\n",
       "      <td>0.0</td>\n",
       "      <td>2024-11-20T20:58:24.285Z</td>\n",
       "    </tr>\n",
       "    <tr>\n",
       "      <th>4</th>\n",
       "      <td>9b67152c4b444453a655edff6b0c476b</td>\n",
       "      <td>7242.0</td>\n",
       "      <td>1</td>\n",
       "      <td>0</td>\n",
       "      <td>61431.0</td>\n",
       "      <td>68673.0</td>\n",
       "      <td>0.0</td>\n",
       "      <td>0.0</td>\n",
       "      <td>0.0</td>\n",
       "      <td>0.0</td>\n",
       "      <td>...</td>\n",
       "      <td>0.0</td>\n",
       "      <td>1.0</td>\n",
       "      <td>0.0</td>\n",
       "      <td>0.0</td>\n",
       "      <td>0.0</td>\n",
       "      <td>0.0</td>\n",
       "      <td>0.0</td>\n",
       "      <td>0.0</td>\n",
       "      <td>0.0</td>\n",
       "      <td>2024-11-20T20:58:24.285Z</td>\n",
       "    </tr>\n",
       "    <tr>\n",
       "      <th>...</th>\n",
       "      <td>...</td>\n",
       "      <td>...</td>\n",
       "      <td>...</td>\n",
       "      <td>...</td>\n",
       "      <td>...</td>\n",
       "      <td>...</td>\n",
       "      <td>...</td>\n",
       "      <td>...</td>\n",
       "      <td>...</td>\n",
       "      <td>...</td>\n",
       "      <td>...</td>\n",
       "      <td>...</td>\n",
       "      <td>...</td>\n",
       "      <td>...</td>\n",
       "      <td>...</td>\n",
       "      <td>...</td>\n",
       "      <td>...</td>\n",
       "      <td>...</td>\n",
       "      <td>...</td>\n",
       "      <td>...</td>\n",
       "      <td>...</td>\n",
       "    </tr>\n",
       "    <tr>\n",
       "      <th>1635</th>\n",
       "      <td>9ce6704e66354f8aac3574d72ae898b5</td>\n",
       "      <td>286151.0</td>\n",
       "      <td>3</td>\n",
       "      <td>0</td>\n",
       "      <td>85864.0</td>\n",
       "      <td>6562.0</td>\n",
       "      <td>0.0</td>\n",
       "      <td>0.0</td>\n",
       "      <td>68910.0</td>\n",
       "      <td>76217.0</td>\n",
       "      <td>...</td>\n",
       "      <td>0.0</td>\n",
       "      <td>0.0</td>\n",
       "      <td>1.0</td>\n",
       "      <td>0.0</td>\n",
       "      <td>0.0</td>\n",
       "      <td>0.0</td>\n",
       "      <td>0.0</td>\n",
       "      <td>0.0</td>\n",
       "      <td>0.0</td>\n",
       "      <td>2024-11-20T20:58:24.285Z</td>\n",
       "    </tr>\n",
       "    <tr>\n",
       "      <th>1636</th>\n",
       "      <td>4beb659a69944b82a431f35eb7d90547</td>\n",
       "      <td>86810.0</td>\n",
       "      <td>2</td>\n",
       "      <td>0</td>\n",
       "      <td>69038.0</td>\n",
       "      <td>36410.0</td>\n",
       "      <td>75765.0</td>\n",
       "      <td>0.0</td>\n",
       "      <td>0.0</td>\n",
       "      <td>0.0</td>\n",
       "      <td>...</td>\n",
       "      <td>0.0</td>\n",
       "      <td>0.0</td>\n",
       "      <td>1.0</td>\n",
       "      <td>0.0</td>\n",
       "      <td>0.0</td>\n",
       "      <td>0.0</td>\n",
       "      <td>0.0</td>\n",
       "      <td>0.0</td>\n",
       "      <td>0.0</td>\n",
       "      <td>2024-11-20T20:58:24.285Z</td>\n",
       "    </tr>\n",
       "    <tr>\n",
       "      <th>1637</th>\n",
       "      <td>8e4b2b87534d41fd92a7fca7c46e2f36</td>\n",
       "      <td>184561.0</td>\n",
       "      <td>3</td>\n",
       "      <td>1</td>\n",
       "      <td>72425.0</td>\n",
       "      <td>79630.0</td>\n",
       "      <td>70880.0</td>\n",
       "      <td>78135.0</td>\n",
       "      <td>67869.0</td>\n",
       "      <td>74976.0</td>\n",
       "      <td>...</td>\n",
       "      <td>0.0</td>\n",
       "      <td>0.0</td>\n",
       "      <td>0.0</td>\n",
       "      <td>0.0</td>\n",
       "      <td>0.0</td>\n",
       "      <td>0.0</td>\n",
       "      <td>0.0</td>\n",
       "      <td>0.0</td>\n",
       "      <td>0.0</td>\n",
       "      <td>2024-11-20T20:58:24.285Z</td>\n",
       "    </tr>\n",
       "    <tr>\n",
       "      <th>1638</th>\n",
       "      <td>03f5c1fde23c444cbad4f6505f2b86ae</td>\n",
       "      <td>7250.0</td>\n",
       "      <td>1</td>\n",
       "      <td>0</td>\n",
       "      <td>56384.0</td>\n",
       "      <td>63635.0</td>\n",
       "      <td>0.0</td>\n",
       "      <td>0.0</td>\n",
       "      <td>0.0</td>\n",
       "      <td>0.0</td>\n",
       "      <td>...</td>\n",
       "      <td>0.0</td>\n",
       "      <td>1.0</td>\n",
       "      <td>0.0</td>\n",
       "      <td>0.0</td>\n",
       "      <td>0.0</td>\n",
       "      <td>0.0</td>\n",
       "      <td>0.0</td>\n",
       "      <td>0.0</td>\n",
       "      <td>0.0</td>\n",
       "      <td>2024-11-20T20:58:24.285Z</td>\n",
       "    </tr>\n",
       "    <tr>\n",
       "      <th>1639</th>\n",
       "      <td>6bb7e831a6ff4a9d85caec9aa28b8482</td>\n",
       "      <td>7255.0</td>\n",
       "      <td>1</td>\n",
       "      <td>0</td>\n",
       "      <td>45459.0</td>\n",
       "      <td>52714.0</td>\n",
       "      <td>0.0</td>\n",
       "      <td>0.0</td>\n",
       "      <td>0.0</td>\n",
       "      <td>0.0</td>\n",
       "      <td>...</td>\n",
       "      <td>0.0</td>\n",
       "      <td>1.0</td>\n",
       "      <td>0.0</td>\n",
       "      <td>0.0</td>\n",
       "      <td>0.0</td>\n",
       "      <td>0.0</td>\n",
       "      <td>0.0</td>\n",
       "      <td>0.0</td>\n",
       "      <td>0.0</td>\n",
       "      <td>2024-11-20T20:58:24.285Z</td>\n",
       "    </tr>\n",
       "  </tbody>\n",
       "</table>\n",
       "<p>1640 rows × 30 columns</p>\n",
       "</div>"
      ],
      "text/plain": [
       "                             player_id  player_lifetime  session_count  \\\n",
       "0     bb8d901a78a645539ac4fb5cc3629225           7233.0              1   \n",
       "1     6ae3e79c8b9c44b5aba3d38eddde7406           7270.0              1   \n",
       "2     5f432744a08f4c18ae44f450f7f4b709         199911.0              2   \n",
       "3     f4f9b569a31a4afbb407bfcd1658aeb3           7172.0              1   \n",
       "4     9b67152c4b444453a655edff6b0c476b           7242.0              1   \n",
       "...                                ...              ...            ...   \n",
       "1635  9ce6704e66354f8aac3574d72ae898b5         286151.0              3   \n",
       "1636  4beb659a69944b82a431f35eb7d90547          86810.0              2   \n",
       "1637  8e4b2b87534d41fd92a7fca7c46e2f36         184561.0              3   \n",
       "1638  03f5c1fde23c444cbad4f6505f2b86ae           7250.0              1   \n",
       "1639  6bb7e831a6ff4a9d85caec9aa28b8482           7255.0              1   \n",
       "\n",
       "      player_churn  begin_session_time_of_day_mean_last_day_1  \\\n",
       "0                0                                    84693.0   \n",
       "1                0                                    81743.0   \n",
       "2                0                                    72372.0   \n",
       "3                0                                    12918.0   \n",
       "4                0                                    61431.0   \n",
       "...            ...                                        ...   \n",
       "1635             0                                    85864.0   \n",
       "1636             0                                    69038.0   \n",
       "1637             1                                    72425.0   \n",
       "1638             0                                    56384.0   \n",
       "1639             0                                    45459.0   \n",
       "\n",
       "      end_session_time_of_day_mean_last_day_1  \\\n",
       "0                                      5527.0   \n",
       "1                                      2614.0   \n",
       "2                                     79530.0   \n",
       "3                                     20090.0   \n",
       "4                                     68673.0   \n",
       "...                                       ...   \n",
       "1635                                   6562.0   \n",
       "1636                                  36410.0   \n",
       "1637                                  79630.0   \n",
       "1638                                  63635.0   \n",
       "1639                                  52714.0   \n",
       "\n",
       "      begin_session_time_of_day_mean_last_day_2  \\\n",
       "0                                           0.0   \n",
       "1                                           0.0   \n",
       "2                                           0.0   \n",
       "3                                           0.0   \n",
       "4                                           0.0   \n",
       "...                                         ...   \n",
       "1635                                        0.0   \n",
       "1636                                    75765.0   \n",
       "1637                                    70880.0   \n",
       "1638                                        0.0   \n",
       "1639                                        0.0   \n",
       "\n",
       "      end_session_time_of_day_mean_last_day_2  \\\n",
       "0                                         0.0   \n",
       "1                                         0.0   \n",
       "2                                         0.0   \n",
       "3                                         0.0   \n",
       "4                                         0.0   \n",
       "...                                       ...   \n",
       "1635                                      0.0   \n",
       "1636                                      0.0   \n",
       "1637                                  78135.0   \n",
       "1638                                      0.0   \n",
       "1639                                      0.0   \n",
       "\n",
       "      begin_session_time_of_day_mean_last_day_3  \\\n",
       "0                                           0.0   \n",
       "1                                           0.0   \n",
       "2                                       52418.0   \n",
       "3                                           0.0   \n",
       "4                                           0.0   \n",
       "...                                         ...   \n",
       "1635                                    68910.0   \n",
       "1636                                        0.0   \n",
       "1637                                    67869.0   \n",
       "1638                                        0.0   \n",
       "1639                                        0.0   \n",
       "\n",
       "      end_session_time_of_day_mean_last_day_3  ...  cohort_id_2024_09_11  \\\n",
       "0                                         0.0  ...                   0.0   \n",
       "1                                         0.0  ...                   0.0   \n",
       "2                                     59618.0  ...                   0.0   \n",
       "3                                         0.0  ...                   0.0   \n",
       "4                                         0.0  ...                   0.0   \n",
       "...                                       ...  ...                   ...   \n",
       "1635                                  76217.0  ...                   0.0   \n",
       "1636                                      0.0  ...                   0.0   \n",
       "1637                                  74976.0  ...                   0.0   \n",
       "1638                                      0.0  ...                   0.0   \n",
       "1639                                      0.0  ...                   0.0   \n",
       "\n",
       "      cohort_id_2024_09_15  cohort_id_2024_09_12  cohort_id_2024_09_13  \\\n",
       "0                      1.0                   0.0                   0.0   \n",
       "1                      1.0                   0.0                   0.0   \n",
       "2                      0.0                   0.0                   1.0   \n",
       "3                      0.0                   0.0                   0.0   \n",
       "4                      1.0                   0.0                   0.0   \n",
       "...                    ...                   ...                   ...   \n",
       "1635                   0.0                   1.0                   0.0   \n",
       "1636                   0.0                   1.0                   0.0   \n",
       "1637                   0.0                   0.0                   0.0   \n",
       "1638                   1.0                   0.0                   0.0   \n",
       "1639                   1.0                   0.0                   0.0   \n",
       "\n",
       "      cohort_id_2024_09_16  cohort_id_2024_09_14  cohort_id_2024_09_08  \\\n",
       "0                      0.0                   0.0                   0.0   \n",
       "1                      0.0                   0.0                   0.0   \n",
       "2                      0.0                   0.0                   0.0   \n",
       "3                      1.0                   0.0                   0.0   \n",
       "4                      0.0                   0.0                   0.0   \n",
       "...                    ...                   ...                   ...   \n",
       "1635                   0.0                   0.0                   0.0   \n",
       "1636                   0.0                   0.0                   0.0   \n",
       "1637                   0.0                   0.0                   0.0   \n",
       "1638                   0.0                   0.0                   0.0   \n",
       "1639                   0.0                   0.0                   0.0   \n",
       "\n",
       "      cohort_id_2024_09_09  cohort_id_2024_09_17                event_time  \n",
       "0                      0.0                   0.0  2024-11-20T20:58:24.285Z  \n",
       "1                      0.0                   0.0  2024-11-20T20:58:24.285Z  \n",
       "2                      0.0                   0.0  2024-11-20T20:58:24.285Z  \n",
       "3                      0.0                   0.0  2024-11-20T20:58:24.285Z  \n",
       "4                      0.0                   0.0  2024-11-20T20:58:24.285Z  \n",
       "...                    ...                   ...                       ...  \n",
       "1635                   0.0                   0.0  2024-11-20T20:58:24.285Z  \n",
       "1636                   0.0                   0.0  2024-11-20T20:58:24.285Z  \n",
       "1637                   0.0                   0.0  2024-11-20T20:58:24.285Z  \n",
       "1638                   0.0                   0.0  2024-11-20T20:58:24.285Z  \n",
       "1639                   0.0                   0.0  2024-11-20T20:58:24.285Z  \n",
       "\n",
       "[1640 rows x 30 columns]"
      ]
     },
     "execution_count": 50,
     "metadata": {},
     "output_type": "execute_result"
    }
   ],
   "source": [
    "player_churn_fs_df"
   ]
  },
  {
   "cell_type": "markdown",
   "id": "dc52d259-8961-4f4d-9d48-6fb8e481ee05",
   "metadata": {
    "editable": true,
    "slideshow": {
     "slide_type": ""
    },
    "tags": []
   },
   "source": [
    "# Data Processing and Splitting Train Data \n",
    "In the previous step, we extracted the required dataset from SageMaker Feature Store for training a model. For our use case, we'll leverage a powerful and efficient ML algorithm called  [XGBoost](https://xgboost.readthedocs.io/en/stable/) to train a classifier to predict player churn. The data structure for XGBoost can be found [here](https://xgboost.readthedocs.io/en/stable/tutorials/input_format.html#id1). In the following section, we'll format the dataset to meet the requirements for XGBoost model."
   ]
  },
  {
   "cell_type": "code",
   "execution_count": 51,
   "id": "f9cc979b-8907-4710-9607-f822a724d8d4",
   "metadata": {
    "editable": true,
    "slideshow": {
     "slide_type": ""
    },
    "tags": []
   },
   "outputs": [],
   "source": [
    "# Removing the columns from Feature Store not relevant to training a model.\n",
    "df_model_data = player_churn_fs_df.drop( columns = [\"player_id\", \"event_time\"])\n",
    "\n",
    "# Reorganize the data structure to make the label column as the first column in the dataset.\n",
    "df_model_data = pd.concat([df_model_data[\"player_churn\"], df_model_data.drop(columns=[\"player_churn\"])], axis=1)"
   ]
  },
  {
   "cell_type": "code",
   "execution_count": 52,
   "id": "bf08bca0-fa97-47d3-b3a0-2e6b8a581358",
   "metadata": {
    "editable": true,
    "slideshow": {
     "slide_type": ""
    },
    "tags": []
   },
   "outputs": [
    {
     "name": "stdout",
     "output_type": "stream",
     "text": [
      "Data split > train:(1148, 28) | validation:(328, 28) | test:(164, 28)\n"
     ]
    },
    {
     "name": "stderr",
     "output_type": "stream",
     "text": [
      "/opt/conda/lib/python3.11/site-packages/numpy/core/fromnumeric.py:59: FutureWarning: 'DataFrame.swapaxes' is deprecated and will be removed in a future version. Please use 'DataFrame.transpose' instead.\n",
      "  return bound(*args, **kwds)\n"
     ]
    }
   ],
   "source": [
    "# Shuffle and splitting dataset\n",
    "train_data, validation_data, test_data = np.split(\n",
    "    df_model_data.sample(frac=1, random_state=1729),\n",
    "    [int(0.7 * len(df_model_data)), int(0.9 * len(df_model_data))],\n",
    ")\n",
    "\n",
    "print(f\"Data split > train:{train_data.shape} | validation:{validation_data.shape} | test:{test_data.shape}\")"
   ]
  },
  {
   "cell_type": "code",
   "execution_count": 53,
   "id": "78e6e601-1fb7-4dd5-a523-778e7b8111bb",
   "metadata": {
    "editable": true,
    "slideshow": {
     "slide_type": ""
    },
    "tags": []
   },
   "outputs": [],
   "source": [
    "train_data_output_s3_path = f\"s3://{bucket_name}/{bucket_prefix}/train/train.csv\"\n",
    "validation_data_output_s3_path = f\"s3://{bucket_name}/{bucket_prefix}/validation/validation.csv\"\n",
    "test_x_data_output_s3_path = f\"s3://{bucket_name}/{bucket_prefix}/test/test_x.csv\"\n",
    "test_y_data_output_s3_path = f\"s3://{bucket_name}/{bucket_prefix}/test/test_y.csv\"\n",
    "baseline_data_output_s3_path = f\"s3://{bucket_name}/{bucket_prefix}/baseline/baseline.csv\"\n",
    "\n",
    "train_data.to_csv(train_data_output_s3_path, index=False, header=False)\n",
    "validation_data.to_csv(validation_data_output_s3_path, index=False, header=False)\n",
    "test_data[target_col].to_csv(test_y_data_output_s3_path, index=False, header=False)\n",
    "test_data.drop([target_col], axis=1).to_csv(test_x_data_output_s3_path, index=False, header=False)\n",
    "\n",
    "# We need the baseline dataset for model monitoring\n",
    "df_model_data.drop([target_col], axis=1).to_csv(baseline_data_output_s3_path, index=False, header=False)"
   ]
  },
  {
   "cell_type": "markdown",
   "id": "4cbff1ef-eb45-4f9d-9942-0cc9228c496d",
   "metadata": {
    "editable": true,
    "slideshow": {
     "slide_type": ""
    },
    "tags": []
   },
   "source": [
    "# Store Parameters\n",
    "In the following cell, we'll store the relevant parameters to S3 bucket so that they could be passed to other steps in the subsequent steps. "
   ]
  },
  {
   "cell_type": "code",
   "execution_count": 54,
   "id": "ed29300a-0506-4701-99f5-493b77e314c3",
   "metadata": {
    "editable": true,
    "slideshow": {
     "slide_type": ""
    },
    "tags": []
   },
   "outputs": [],
   "source": [
    "params = {}\n",
    "params['train_data'] = train_data_output_s3_path\n",
    "params['validation_data'] = validation_data_output_s3_path\n",
    "params['test_x_data'] = test_x_data_output_s3_path\n",
    "params['test_y_data'] = test_y_data_output_s3_path\n",
    "params['baseline_data'] = baseline_data_output_s3_path\n",
    "params['experiment_name'] = experiment.name"
   ]
  },
  {
   "cell_type": "code",
   "execution_count": 55,
   "id": "8c2ee2e5-ac29-4906-bd9f-3752a88ae1c2",
   "metadata": {
    "editable": true,
    "slideshow": {
     "slide_type": ""
    },
    "tags": []
   },
   "outputs": [
    {
     "name": "stdout",
     "output_type": "stream",
     "text": [
      "File 02-preprocess.json uploaded successfully to sagemaker-us-east-1-141310854322/player-churn/xgboost/params/02-preprocess.json\n"
     ]
    }
   ],
   "source": [
    "s3_client = boto3.client(\"s3\", region_name=region)\n",
    "step_name = \"02-preprocess\"\n",
    "write_params(s3_client, step_name, params, notebook_param_s3_bucket_prefix)"
   ]
  },
  {
   "cell_type": "code",
   "execution_count": 56,
   "id": "ec2f585e-c0a5-42f0-8ec8-ed8c93bd6f80",
   "metadata": {
    "editable": true,
    "slideshow": {
     "slide_type": ""
    },
    "tags": []
   },
   "outputs": [],
   "source": [
    "mlflow.end_run()"
   ]
  },
  {
   "cell_type": "code",
   "execution_count": null,
   "id": "bb7cbaa6-786a-48d0-bb01-322f57579246",
   "metadata": {
    "editable": true,
    "slideshow": {
     "slide_type": ""
    },
    "tags": []
   },
   "outputs": [],
   "source": []
  }
 ],
 "metadata": {
  "kernelspec": {
   "display_name": "Python 3 (ipykernel)",
   "language": "python",
   "name": "python3"
  },
  "language_info": {
   "codemirror_mode": {
    "name": "ipython",
    "version": 3
   },
   "file_extension": ".py",
   "mimetype": "text/x-python",
   "name": "python",
   "nbconvert_exporter": "python",
   "pygments_lexer": "ipython3",
   "version": "3.11.10"
  }
 },
 "nbformat": 4,
 "nbformat_minor": 5
}
